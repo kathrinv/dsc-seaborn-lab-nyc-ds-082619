{
 "cells": [
  {
   "cell_type": "markdown",
   "metadata": {},
   "source": [
    "# Seaborn - Lab\n",
    "\n",
    "## Introduction\n",
    "\n",
    "In this lab, we'll get some practice working with a second, more advanced visualization library, **_Seaborn_**!\n",
    "\n",
    "## Objectives\n",
    "\n",
    "You will be able to:\n",
    "\n",
    "* Understand the relationship between Seaborn and Matplotlib, and when to use each \n",
    "* Create basic visualizations with Seaborn\n",
    "\n",
    "## Getting Started\n",
    "\n",
    "In this lab, we'll explore several different kinds of visualizations we can create with Seaborn. Seaborn is built on top of Matplotlib, so you'll find that it will feel quite familiar. \n",
    "\n",
    "Let's get started by importing some things and creating a toy dataset to work with for our first visualization. \n",
    "\n",
    "\n",
    "In the cell below: \n",
    "\n",
    "* Import `numpy` and set the standard alias of `np`\n",
    "* Import `seaborn` and set the standard alias of `sns`\n",
    "* Set `%matplotlib inline` so that our visualizations appear in the notebook, and not as separate files"
   ]
  },
  {
   "cell_type": "code",
   "execution_count": 1,
   "metadata": {},
   "outputs": [],
   "source": [
    "import numpy as np\n",
    "import seaborn as sns\n",
    "%matplotlib inline"
   ]
  },
  {
   "cell_type": "markdown",
   "metadata": {},
   "source": [
    "Great! Now, run the cell below to create a sample dataset. "
   ]
  },
  {
   "cell_type": "code",
   "execution_count": 2,
   "metadata": {},
   "outputs": [],
   "source": [
    "data = np.random.normal(size=(20, 10)) + np.arange(10) / 2"
   ]
  },
  {
   "cell_type": "code",
   "execution_count": 3,
   "metadata": {},
   "outputs": [
    {
     "data": {
      "text/plain": [
       "array([[-0.86642248,  0.97405228,  3.49854432,  1.66445796,  2.59565216,\n",
       "         1.3164691 ,  4.4574744 ,  3.35652082,  3.47555751,  4.61882813],\n",
       "       [ 0.24098655, -0.07027226, -0.79126056,  0.73354139,  1.40100959,\n",
       "         2.67293869,  2.50554465,  2.42471382,  2.66032875,  5.80083206],\n",
       "       [ 0.0473431 ,  0.44400183,  0.85592174,  2.65308103,  0.96485522,\n",
       "         1.00944868,  2.48682543,  4.14103675,  3.98505163,  4.63266781],\n",
       "       [ 0.43674832,  0.86767017,  0.53677298,  2.83666183,  0.15979896,\n",
       "         2.74993143,  2.73614367,  3.2547817 ,  4.88795039,  3.72853353],\n",
       "       [-0.31719246,  1.60231543,  1.05704421,  2.35709461,  2.72681083,\n",
       "        -0.21371879,  1.78730148,  3.84578478,  4.93459667,  4.12370357],\n",
       "       [ 0.93436762,  0.62743057, -0.40625715,  1.67408815,  3.19995992,\n",
       "         1.84101537,  2.41207572,  3.05901723,  3.69925674,  3.56625549],\n",
       "       [ 0.00869873, -0.76264209, -0.19960574,  1.67400187,  2.2755086 ,\n",
       "         3.47721015,  2.85576444,  3.82954243,  3.55691243,  4.33237349],\n",
       "       [ 0.56015699,  0.32897935,  0.71936522,  1.83962266,  2.8642299 ,\n",
       "         1.49358269,  4.35045019,  2.69655802,  3.45439085,  3.01781593],\n",
       "       [-0.53605115,  0.88502522,  0.83843917,  1.9321733 ,  3.20187496,\n",
       "         3.68828462,  1.29265113,  3.8915569 ,  4.91334164,  4.22666231],\n",
       "       [-1.33613753, -0.09646892,  1.97107271,  0.72555902,  2.41693109,\n",
       "         3.56698053,  2.73969243,  3.55349795,  3.40379595,  4.30730818],\n",
       "       [-1.05373587,  1.6806001 ,  1.01636158,  2.80810478,  1.49027613,\n",
       "         2.12509867,  1.45242659,  4.67316797,  4.39223759,  3.78570943],\n",
       "       [ 0.79949353,  0.25913647,  1.45349614,  1.38541542,  1.77243368,\n",
       "         1.37243504,  2.44702594,  2.43877584,  2.61971868,  5.1552505 ],\n",
       "       [-1.29010577,  0.36981846,  1.93212819,  1.76592137,  1.53853493,\n",
       "         2.56409815,  4.30057185,  4.76689311,  3.23118025,  4.02215349],\n",
       "       [ 0.63649238,  0.95864623,  1.51224385,  0.2169951 ,  1.21418234,\n",
       "         2.99031993,  1.77767828,  2.81977519,  4.86893195,  3.16134156],\n",
       "       [ 0.34888779,  0.79103206,  1.20687854,  0.03297221,  2.80313024,\n",
       "         3.34401255,  3.04943469,  3.93167688,  4.16995997,  3.51950691],\n",
       "       [-1.14643869,  1.17520434,  0.31399196,  1.9916264 ,  3.47258029,\n",
       "         3.01060175,  2.63278035,  4.61241822,  3.79700338,  3.78768644],\n",
       "       [-2.16861874,  1.28961625,  1.511645  ,  2.89585813,  2.34703813,\n",
       "         2.64906548,  3.41260463,  3.94304555,  4.55659489,  5.52588235],\n",
       "       [ 0.98698204, -0.56942984,  0.34868354,  2.56589667,  0.88451606,\n",
       "         3.19586546,  0.87464183,  3.32976663,  4.27464812,  6.31326646],\n",
       "       [-0.08774883,  1.44015948,  0.32237091,  0.67244758,  2.01976237,\n",
       "         3.32930769,  4.08343095,  3.30154514,  6.26294546,  5.79213074],\n",
       "       [-0.41442987,  0.00732764,  1.35217226,  1.50248616,  3.91747593,\n",
       "         3.60170472,  2.69195606,  4.91953711,  4.04874   ,  5.14439522]])"
      ]
     },
     "execution_count": 3,
     "metadata": {},
     "output_type": "execute_result"
    }
   ],
   "source": [
    "data"
   ]
  },
  {
   "cell_type": "markdown",
   "metadata": {},
   "source": [
    "### Basic Visualiations with Seaborn\n",
    "\n",
    "We'll start off by creating a boxplot with the dataset we just created so that we can get a feel for the common workflow of Seaborn. \n",
    "\n",
    "In the cell below:\n",
    "\n",
    "* Create a `boxplot` and pass in the parameter `data=data`. Store the object returned in the variable `boxplot`"
   ]
  },
  {
   "cell_type": "code",
   "execution_count": 4,
   "metadata": {},
   "outputs": [
    {
     "data": {
      "image/png": "[encoded data removed]",
      "text/plain": [
       "<Figure size 432x288 with 1 Axes>"
      ]
     },
     "metadata": {
      "needs_background": "light"
     },
     "output_type": "display_data"
    }
   ],
   "source": [
    "boxplot = sns.boxplot(data=data)"
   ]
  },
  {
   "cell_type": "markdown",
   "metadata": {},
   "source": [
    "That's a nice looking visualization, for only a single line of code! However, it's missing axis labels and a title. Let's fix that. \n",
    "\n",
    "In the cell below: \n",
    "\n",
    "* Copy and paste the code from the cell above to recreate our boxplot\n",
    "* Call the `boxplot` object's `set()` method and pass in the following parameters:\n",
    "    * `xlabel= 'X Label'`\n",
    "    * `ylabel= 'Y Label'`\n",
    "    * `title = 'Example Boxplot'`    "
   ]
  },
  {
   "cell_type": "code",
   "execution_count": 5,
   "metadata": {},
   "outputs": [
    {
     "ename": "TypeError",
     "evalue": "boxplot() got an unexpected keyword argument 'xlabel'",
     "output_type": "error",
     "traceback": [
      "\u001b[0;31m\u001b[0m",
      "\u001b[0;31mTypeError\u001b[0mTraceback (most recent call last)",
      "\u001b[0;32m<ipython-input-5-35ed469d81ed>\u001b[0m in \u001b[0;36m<module>\u001b[0;34m()\u001b[0m\n\u001b[0;32m----> 1\u001b[0;31m \u001b[0mboxplot\u001b[0m \u001b[0;34m=\u001b[0m \u001b[0msns\u001b[0m\u001b[0;34m.\u001b[0m\u001b[0mboxplot\u001b[0m\u001b[0;34m(\u001b[0m\u001b[0mdata\u001b[0m\u001b[0;34m=\u001b[0m\u001b[0mdata\u001b[0m\u001b[0;34m,\u001b[0m \u001b[0mxlabel\u001b[0m \u001b[0;34m=\u001b[0m \u001b[0;34m'xlabel'\u001b[0m\u001b[0;34m,\u001b[0m \u001b[0mylabel\u001b[0m \u001b[0;34m=\u001b[0m \u001b[0;34m'ylabel'\u001b[0m\u001b[0;34m,\u001b[0m \u001b[0mtitle\u001b[0m \u001b[0;34m=\u001b[0m \u001b[0;34m'Example Boxplot'\u001b[0m\u001b[0;34m)\u001b[0m\u001b[0;34m\u001b[0m\u001b[0m\n\u001b[0m",
      "\u001b[0;32m/opt/conda/envs/learn-env/lib/python3.6/site-packages/seaborn/categorical.py\u001b[0m in \u001b[0;36mboxplot\u001b[0;34m(x, y, hue, data, order, hue_order, orient, color, palette, saturation, width, dodge, fliersize, linewidth, whis, notch, ax, **kwargs)\u001b[0m\n\u001b[1;32m   2235\u001b[0m     \u001b[0mkwargs\u001b[0m\u001b[0;34m.\u001b[0m\u001b[0mupdate\u001b[0m\u001b[0;34m(\u001b[0m\u001b[0mdict\u001b[0m\u001b[0;34m(\u001b[0m\u001b[0mwhis\u001b[0m\u001b[0;34m=\u001b[0m\u001b[0mwhis\u001b[0m\u001b[0;34m,\u001b[0m \u001b[0mnotch\u001b[0m\u001b[0;34m=\u001b[0m\u001b[0mnotch\u001b[0m\u001b[0;34m)\u001b[0m\u001b[0;34m)\u001b[0m\u001b[0;34m\u001b[0m\u001b[0m\n\u001b[1;32m   2236\u001b[0m \u001b[0;34m\u001b[0m\u001b[0m\n\u001b[0;32m-> 2237\u001b[0;31m     \u001b[0mplotter\u001b[0m\u001b[0;34m.\u001b[0m\u001b[0mplot\u001b[0m\u001b[0;34m(\u001b[0m\u001b[0max\u001b[0m\u001b[0;34m,\u001b[0m \u001b[0mkwargs\u001b[0m\u001b[0;34m)\u001b[0m\u001b[0;34m\u001b[0m\u001b[0m\n\u001b[0m\u001b[1;32m   2238\u001b[0m     \u001b[0;32mreturn\u001b[0m \u001b[0max\u001b[0m\u001b[0;34m\u001b[0m\u001b[0m\n\u001b[1;32m   2239\u001b[0m \u001b[0;34m\u001b[0m\u001b[0m\n",
      "\u001b[0;32m/opt/conda/envs/learn-env/lib/python3.6/site-packages/seaborn/categorical.py\u001b[0m in \u001b[0;36mplot\u001b[0;34m(self, ax, boxplot_kws)\u001b[0m\n\u001b[1;32m    547\u001b[0m     \u001b[0;32mdef\u001b[0m \u001b[0mplot\u001b[0m\u001b[0;34m(\u001b[0m\u001b[0mself\u001b[0m\u001b[0;34m,\u001b[0m \u001b[0max\u001b[0m\u001b[0;34m,\u001b[0m \u001b[0mboxplot_kws\u001b[0m\u001b[0;34m)\u001b[0m\u001b[0;34m:\u001b[0m\u001b[0;34m\u001b[0m\u001b[0m\n\u001b[1;32m    548\u001b[0m         \u001b[0;34m\"\"\"Make the plot.\"\"\"\u001b[0m\u001b[0;34m\u001b[0m\u001b[0m\n\u001b[0;32m--> 549\u001b[0;31m         \u001b[0mself\u001b[0m\u001b[0;34m.\u001b[0m\u001b[0mdraw_boxplot\u001b[0m\u001b[0;34m(\u001b[0m\u001b[0max\u001b[0m\u001b[0;34m,\u001b[0m \u001b[0mboxplot_kws\u001b[0m\u001b[0;34m)\u001b[0m\u001b[0;34m\u001b[0m\u001b[0m\n\u001b[0m\u001b[1;32m    550\u001b[0m         \u001b[0mself\u001b[0m\u001b[0;34m.\u001b[0m\u001b[0mannotate_axes\u001b[0m\u001b[0;34m(\u001b[0m\u001b[0max\u001b[0m\u001b[0;34m)\u001b[0m\u001b[0;34m\u001b[0m\u001b[0m\n\u001b[1;32m    551\u001b[0m         \u001b[0;32mif\u001b[0m \u001b[0mself\u001b[0m\u001b[0;34m.\u001b[0m\u001b[0morient\u001b[0m \u001b[0;34m==\u001b[0m \u001b[0;34m\"h\"\u001b[0m\u001b[0;34m:\u001b[0m\u001b[0;34m\u001b[0m\u001b[0m\n",
      "\u001b[0;32m/opt/conda/envs/learn-env/lib/python3.6/site-packages/seaborn/categorical.py\u001b[0m in \u001b[0;36mdraw_boxplot\u001b[0;34m(self, ax, kws)\u001b[0m\n\u001b[1;32m    484\u001b[0m                                          \u001b[0mpositions\u001b[0m\u001b[0;34m=\u001b[0m\u001b[0;34m[\u001b[0m\u001b[0mi\u001b[0m\u001b[0;34m]\u001b[0m\u001b[0;34m,\u001b[0m\u001b[0;34m\u001b[0m\u001b[0m\n\u001b[1;32m    485\u001b[0m                                          \u001b[0mwidths\u001b[0m\u001b[0;34m=\u001b[0m\u001b[0mself\u001b[0m\u001b[0;34m.\u001b[0m\u001b[0mwidth\u001b[0m\u001b[0;34m,\u001b[0m\u001b[0;34m\u001b[0m\u001b[0m\n\u001b[0;32m--> 486\u001b[0;31m                                          **kws)\n\u001b[0m\u001b[1;32m    487\u001b[0m                 \u001b[0mcolor\u001b[0m \u001b[0;34m=\u001b[0m \u001b[0mself\u001b[0m\u001b[0;34m.\u001b[0m\u001b[0mcolors\u001b[0m\u001b[0;34m[\u001b[0m\u001b[0mi\u001b[0m\u001b[0;34m]\u001b[0m\u001b[0;34m\u001b[0m\u001b[0m\n\u001b[1;32m    488\u001b[0m                 \u001b[0mself\u001b[0m\u001b[0;34m.\u001b[0m\u001b[0mrestyle_boxplot\u001b[0m\u001b[0;34m(\u001b[0m\u001b[0martist_dict\u001b[0m\u001b[0;34m,\u001b[0m \u001b[0mcolor\u001b[0m\u001b[0;34m,\u001b[0m \u001b[0mprops\u001b[0m\u001b[0;34m)\u001b[0m\u001b[0;34m\u001b[0m\u001b[0m\n",
      "\u001b[0;32m/opt/conda/envs/learn-env/lib/python3.6/site-packages/matplotlib/__init__.py\u001b[0m in \u001b[0;36minner\u001b[0;34m(ax, data, *args, **kwargs)\u001b[0m\n\u001b[1;32m   1808\u001b[0m                         \u001b[0;34m\"the Matplotlib list!)\"\u001b[0m \u001b[0;34m%\u001b[0m \u001b[0;34m(\u001b[0m\u001b[0mlabel_namer\u001b[0m\u001b[0;34m,\u001b[0m \u001b[0mfunc\u001b[0m\u001b[0;34m.\u001b[0m\u001b[0m__name__\u001b[0m\u001b[0;34m)\u001b[0m\u001b[0;34m,\u001b[0m\u001b[0;34m\u001b[0m\u001b[0m\n\u001b[1;32m   1809\u001b[0m                         RuntimeWarning, stacklevel=2)\n\u001b[0;32m-> 1810\u001b[0;31m             \u001b[0;32mreturn\u001b[0m \u001b[0mfunc\u001b[0m\u001b[0;34m(\u001b[0m\u001b[0max\u001b[0m\u001b[0;34m,\u001b[0m \u001b[0;34m*\u001b[0m\u001b[0margs\u001b[0m\u001b[0;34m,\u001b[0m \u001b[0;34m**\u001b[0m\u001b[0mkwargs\u001b[0m\u001b[0;34m)\u001b[0m\u001b[0;34m\u001b[0m\u001b[0m\n\u001b[0m\u001b[1;32m   1811\u001b[0m \u001b[0;34m\u001b[0m\u001b[0m\n\u001b[1;32m   1812\u001b[0m         inner.__doc__ = _add_data_doc(inner.__doc__,\n",
      "\u001b[0;31mTypeError\u001b[0m: boxplot() got an unexpected keyword argument 'xlabel'"
     ]
    },
    {
     "data": {
      "image/png": "[encoded data removed]",
      "text/plain": [
       "<Figure size 432x288 with 1 Axes>"
      ]
     },
     "metadata": {
      "needs_background": "light"
     },
     "output_type": "display_data"
    }
   ],
   "source": [
    "boxplot = sns.boxplot(data=data, xlabel = 'xlabel', ylabel = 'ylabel', title = 'Example Boxplot')\n"
   ]
  },
  {
   "cell_type": "markdown",
   "metadata": {},
   "source": [
    "That wasn't too bad! Note that we can also use **_Method Chaining_** to set all the label and title information by combining the two lines in the cell above!\n",
    "\n",
    "In the cell below:\n",
    "\n",
    "* Recreate the labeled boxplot by calling `.set()` and passing in the appropriate parameter values immediately after calling `sns.boxplot(data=data)` to create the visualization. \n",
    "\n",
    "**_NOTE_**: For this visualization, you do not need to store the object in a variable. Just call the methods."
   ]
  },
  {
   "cell_type": "code",
   "execution_count": null,
   "metadata": {},
   "outputs": [],
   "source": []
  },
  {
   "cell_type": "markdown",
   "metadata": {},
   "source": [
    "Great! As you can see, Seaborn is a pretty easy library to work with. It also has very detailed and easy-to-follow documentation, complete with a ton of examples and tutorials. If you're ever unsure of how to build something, don't be afraid to look at the [Seaborn Documentation](https://seaborn.pydata.org/), or Google!\n",
    "\n",
    "### Changing Style and Context\n",
    "\n",
    "One of the main reasons Data Scientists love Seaborn is because the visualizations it creates are just plain prettier than those made by matplotlib. Seaborn makes it very simple to style our visualizations--all we need to do is use the `set_style()` method!\n",
    "\n",
    "In the cell below:\n",
    "\n",
    "* Call Seaborn's `set_style()` method and pass in the string `'darkgrid'`. \n",
    "* Recreate the labeled boxplot that we made in the cell above. "
   ]
  },
  {
   "cell_type": "code",
   "execution_count": null,
   "metadata": {
    "scrolled": true
   },
   "outputs": [],
   "source": []
  },
  {
   "cell_type": "markdown",
   "metadata": {},
   "source": [
    "That's much easier to read! There are several different styles that we can choose from. To see examples of the different styles we can use, check out the [documentation](https://seaborn.pydata.org/tutorial/aesthetics.html) for controlling figure aesthetics.\n",
    "\n",
    "Before we move on, let's make one more change. While the plot looks much better now, the size of the text for ticks and axis labels so small that it would be hard for people to read it unless they're right in front of the monitor--that's a problem, if the visualizations are going to be used in something like a tech talk or presentation!\n",
    "\n",
    "For this reason, we can also set the context, using the--you guessed it--`set_context()` method!\n",
    "\n",
    "In the cell below:\n",
    "\n",
    "* Call Seaborn's `set_context()` method and pass in the string `'poster'`.\n",
    "* Recreate the labeled boxplot that we made in the cell above."
   ]
  },
  {
   "cell_type": "code",
   "execution_count": null,
   "metadata": {},
   "outputs": [],
   "source": []
  },
  {
   "cell_type": "markdown",
   "metadata": {},
   "source": [
    "Much better! That's much more readable. From smallest to largest, the different context settings we can use are `'paper'`, `'notebook'`, `'talk'`, and `'poster'`. \n",
    "\n",
    "### A  Quick Note on Contexts and Styles\n",
    "\n",
    "When you call `set_context` or `set_style`, you're setting a global parameter that will apply to all future plots you create during this session. Any visualizations you have already created will not change--however, they will change if you rerun the cell that created them! \n",
    "\n",
    "Let's change our context back to `'notebook'` so that the next visualizations we create don't look too big. \n",
    "\n",
    "In the cell below, change the context back to `'notebook'`."
   ]
  },
  {
   "cell_type": "code",
   "execution_count": null,
   "metadata": {},
   "outputs": [],
   "source": []
  },
  {
   "cell_type": "markdown",
   "metadata": {},
   "source": [
    "## More Advanced Visualizations\n",
    "\n",
    "One awesome feature of Seaborn is the ability to quickly and easily create advanced visualizations such as **_Regression Plots_**. To end this lab, we'll see a few examples, and explore how they are created. \n",
    "\n",
    "### Regression Lines with Confidence Intervals\n",
    "\n",
    "There are also several different types of regression plots Seaborn makes available for this purpose. For this example, we're going to create an advanced regression plot that also visualizes the confidence interval for our regression line. We'll even have the visualization **_condition on_** a 3rd variable, to show how the regression lines differ for each group, depending on the value of the 3rd variable. \n",
    "\n",
    "For this visualization, we'll need a more advanced dataset than the example we created and used above. Luckily, Seaborn comes with some preloaded datasets. We can see the names of all the datasets by calling Seaborn's `get_dataset_names()` method. \n",
    "\n",
    "Do this now in the cell below."
   ]
  },
  {
   "cell_type": "code",
   "execution_count": null,
   "metadata": {},
   "outputs": [],
   "source": []
  },
  {
   "cell_type": "markdown",
   "metadata": {},
   "source": [
    "Great! For the reamainder of this notebook, we'll use the `'tips'` dataset. We can get this dataset by calling Seaborn's `load_dataset()` method and passing in the string `'tips'`. Seaborn is even considerate enough to return the dataset as a pandas DataFrame!\n",
    "\n",
    "In the cell below, get the tips dataset and store it in the variable `tips`. Then, display the head of the DataFrame so we can see what we're working with. "
   ]
  },
  {
   "cell_type": "code",
   "execution_count": null,
   "metadata": {},
   "outputs": [],
   "source": [
    "tips = None\n"
   ]
  },
  {
   "cell_type": "markdown",
   "metadata": {},
   "source": [
    "Now that we have our dataset, we can create our regression plot. There are several kinds of regression plots we can use. For this example, we'll use the `lmplot` function. \n",
    "\n",
    "In the cell below: \n",
    "\n",
    "* Call Seaborn's `lmplot` function and pass in the following arguments:\n",
    "    * `x='total_bill'`\n",
    "    * `y='tip'`\n",
    "    * `hue='smoker'`\n",
    "    * `data= tips`"
   ]
  },
  {
   "cell_type": "code",
   "execution_count": null,
   "metadata": {},
   "outputs": [],
   "source": []
  },
  {
   "cell_type": "markdown",
   "metadata": {},
   "source": [
    "Very cool! That visualization contains _a lot_ of information, and it does it in a way that is easy to interpret and understand. Best of all, it didn't take much work on our part--all we had to do was tell the function the name of the column to use for the x axis, the name of the column to use for the y axis, and the name of the variable to condition on, as denoted by the two different colors. \n",
    "\n",
    "If we want to get even more ambitious, we can create mutiple subplots by using the `row=` and `column=` parameters, as well! \n",
    "\n",
    "Run the cell below to see an example, and see if you can figure out how the code works. "
   ]
  },
  {
   "cell_type": "code",
   "execution_count": null,
   "metadata": {},
   "outputs": [],
   "source": [
    "sns.lmplot(x=\"total_bill\", y=\"tip\", hue=\"smoker\",\n",
    "           col=\"time\", row=\"sex\", data=tips)"
   ]
  },
  {
   "cell_type": "markdown",
   "metadata": {},
   "source": [
    "## Summary\n",
    "\n",
    "In this lab, we explored the **_Seaborn_** library, and explored the sorts of data visualizations we can create with it!"
   ]
  }
 ],
 "metadata": {
  "kernelspec": {
   "display_name": "Python 3",
   "language": "python",
   "name": "python3"
  },
  "language_info": {
   "codemirror_mode": {
    "name": "ipython",
    "version": 3
   },
   "file_extension": ".py",
   "mimetype": "text/x-python",
   "name": "python",
   "nbconvert_exporter": "python",
   "pygments_lexer": "ipython3",
   "version": "3.6.6"
  }
 },
 "nbformat": 4,
 "nbformat_minor": 2
}
